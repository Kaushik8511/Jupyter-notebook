{
 "cells": [
  {
   "cell_type": "code",
   "execution_count": 6,
   "metadata": {},
   "outputs": [
    {
     "name": "stdout",
     "output_type": "stream",
     "text": [
      "[100, 200, 300, 300, 200]\n",
      "300\n"
     ]
    }
   ],
   "source": [
    "queries=[[1,5,100],[2,5,100],[3,4,100]]\n",
    "n=5;\n",
    "res=[0 for i in range(n)]\n",
    "for i in range(len(queries)):\n",
    "    for j in range(queries[i][0],queries[i][1]+1):\n",
    "        res[j-1]=res[j-1]+queries[i][2]\n",
    "print(res)\n",
    "print(max(res))"
   ]
  }
 ],
 "metadata": {
  "kernelspec": {
   "display_name": "Python 3",
   "language": "python",
   "name": "python3"
  },
  "language_info": {
   "codemirror_mode": {
    "name": "ipython",
    "version": 3
   },
   "file_extension": ".py",
   "mimetype": "text/x-python",
   "name": "python",
   "nbconvert_exporter": "python",
   "pygments_lexer": "ipython3",
   "version": "3.7.3"
  }
 },
 "nbformat": 4,
 "nbformat_minor": 2
}
