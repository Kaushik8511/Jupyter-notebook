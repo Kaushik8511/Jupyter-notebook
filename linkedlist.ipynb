{
 "cells": [
  {
   "cell_type": "code",
   "execution_count": 1,
   "metadata": {},
   "outputs": [],
   "source": [
    "class node:\n",
    "    def __init__(self,data):\n",
    "        self.data=data\n",
    "        self.next=None"
   ]
  },
  {
   "cell_type": "code",
   "execution_count": 5,
   "metadata": {},
   "outputs": [],
   "source": [
    "class linkedlist:\n",
    "    def __init__(self):\n",
    "        self.head=None\n",
    "    def append(self,value):\n",
    "        newnode=node(value)\n",
    "        if not self.head:\n",
    "            return\n",
    "        ptr=self.head\n",
    "        while(ptr.next):\n",
    "            ptr=ptr.next\n",
    "        ptr.next=newnode\n",
    "        \n",
    "        \n",
    "    def printlist(self):\n",
    "        if self.head is None:\n",
    "            print('list is empty ')\n",
    "            return\n",
    "        ptr=self.head\n",
    "        while(ptr):\n",
    "            print(ptr.data,end=\"  \")\n",
    "            ptr=ptr.next\n",
    "            \n",
    "            \n",
    "    def prepend(self,data):\n",
    "        newnode=node(data)\n",
    "        newnode.next=self.head\n",
    "        self.head=newnode\n",
    "        \n",
    "        \n",
    "    def swap(self,val1,val2):\n",
    "        ptr=self.head\n",
    "        c1=0\n",
    "        c2=0\n",
    "        while(ptr and c1==0 or c2==0):\n",
    "            if(ptr.data==val1 and c1==0):\n",
    "                ptr1=ptr\n",
    "                c1=1\n",
    "            if(ptr.data==val2 and c2==0):\n",
    "                ptr2=ptr\n",
    "                c2=1\n",
    "            ptr=ptr.next\n",
    "        if c1==0 or c2==0:\n",
    "            print(\"value not found in list\")\n",
    "            return\n",
    "        ptr1.data,ptr2.data=ptr2.data,ptr1.data\n",
    "        \n",
    "        \n",
    "    def occurance(self):\n",
    "        d={}\n",
    "        ptr=self.head\n",
    "        while(ptr):\n",
    "            if ptr.data not in d:\n",
    "                d[ptr.data]=1\n",
    "            else:\n",
    "                d[ptr.data]+=1\n",
    "            ptr=ptr.next\n",
    "        for key in d:\n",
    "            print(f\"{key} : {d[key]}\")\n",
    "                "
   ]
  },
  {
   "cell_type": "code",
   "execution_count": 6,
   "metadata": {},
   "outputs": [
    {
     "name": "stdout",
     "output_type": "stream",
     "text": [
      "1  23  11  23  23  11  4  2  54  3000  44  \n",
      "1  23  11  23  23  11  4  2  44  3000  54  1 : 1\n",
      "23 : 3\n",
      "11 : 2\n",
      "4 : 1\n",
      "2 : 1\n",
      "44 : 1\n",
      "3000 : 1\n",
      "54 : 1\n"
     ]
    }
   ],
   "source": [
    "l=linkedlist()\n",
    "l.prepend(11)\n",
    "l.append(4)\n",
    "l.append(2)\n",
    "l.append(54)\n",
    "l.append(3000)\n",
    "l.append(44)\n",
    "l.prepend(23)\n",
    "l.prepend(23)\n",
    "l.prepend(11)\n",
    "l.prepend(23)\n",
    "l.prepend(1)\n",
    "l.printlist()\n",
    "l.swap(54,44)\n",
    "print()\n",
    "l.printlist()\n",
    "l.occurance()"
   ]
  }
 ],
 "metadata": {
  "kernelspec": {
   "display_name": "Python 3",
   "language": "python",
   "name": "python3"
  },
  "language_info": {
   "codemirror_mode": {
    "name": "ipython",
    "version": 3
   },
   "file_extension": ".py",
   "mimetype": "text/x-python",
   "name": "python",
   "nbconvert_exporter": "python",
   "pygments_lexer": "ipython3",
   "version": "3.7.3"
  }
 },
 "nbformat": 4,
 "nbformat_minor": 2
}
