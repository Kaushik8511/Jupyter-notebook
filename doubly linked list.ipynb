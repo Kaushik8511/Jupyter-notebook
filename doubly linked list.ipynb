{
 "cells": [
  {
   "cell_type": "code",
   "execution_count": 2,
   "metadata": {},
   "outputs": [],
   "source": [
    "class node:\n",
    "    def __init__(self,data):\n",
    "        self.data=data\n",
    "        self.next=None\n",
    "        self.prev=None"
   ]
  },
  {
   "cell_type": "code",
   "execution_count": 7,
   "metadata": {},
   "outputs": [],
   "source": [
    "class linkedlist:\n",
    "    def __init__(self):\n",
    "        self.head=None\n",
    "    def append(self,data):\n",
    "        newnode=node(data)\n",
    "        if not self.head:\n",
    "            self.head =newnode\n",
    "        else:\n",
    "            ptr=self.head\n",
    "            while(ptr.next):\n",
    "                ptr=ptr.next\n",
    "            ptr.next=newnode\n",
    "            newnode.prev=ptr\n",
    "    def printlist(self):\n",
    "        ptr=self.head\n",
    "        if not self.head:\n",
    "            print(\"list is empty \")\n",
    "        else:\n",
    "            while(ptr):\n",
    "                print(ptr.data)\n",
    "                ptr=ptr.next\n",
    "                "
   ]
  },
  {
   "cell_type": "code",
   "execution_count": 8,
   "metadata": {},
   "outputs": [
    {
     "name": "stdout",
     "output_type": "stream",
     "text": [
      "10\n",
      "50\n",
      "20\n",
      "13\n"
     ]
    }
   ],
   "source": [
    "l=linkedlist()\n",
    "l.append(10)\n",
    "l.append(50)\n",
    "l.append(20)\n",
    "l.append(13)\n",
    "l.printlist()"
   ]
  }
 ],
 "metadata": {
  "kernelspec": {
   "display_name": "Python 3",
   "language": "python",
   "name": "python3"
  },
  "language_info": {
   "codemirror_mode": {
    "name": "ipython",
    "version": 3
   },
   "file_extension": ".py",
   "mimetype": "text/x-python",
   "name": "python",
   "nbconvert_exporter": "python",
   "pygments_lexer": "ipython3",
   "version": "3.7.3"
  }
 },
 "nbformat": 4,
 "nbformat_minor": 2
}
