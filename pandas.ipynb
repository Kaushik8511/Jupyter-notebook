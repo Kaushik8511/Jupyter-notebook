{
 "cells": [
  {
   "cell_type": "markdown",
   "metadata": {},
   "source": [
    "#  Pandas :\n",
    "##       It is python module that make data analysis easy and effective.\n"
   ]
  },
  {
   "cell_type": "markdown",
   "metadata": {},
   "source": [
    "# different ways to creating DataFrames"
   ]
  },
  {
   "cell_type": "code",
   "execution_count": 3,
   "metadata": {},
   "outputs": [],
   "source": [
    "import pandas as pd\n",
    "import numpy as np"
   ]
  },
  {
   "cell_type": "code",
   "execution_count": 6,
   "metadata": {},
   "outputs": [
    {
     "data": {
      "text/plain": [
       "numpy.ndarray"
      ]
     },
     "execution_count": 6,
     "metadata": {},
     "output_type": "execute_result"
    }
   ],
   "source": [
    "df=pd.read_csv('dataset.csv')\n",
    "df = pd.DataFrame(df)\n",
    "type(df['BALANCE'].values)"
   ]
  },
  {
   "cell_type": "code",
   "execution_count": 7,
   "metadata": {},
   "outputs": [
    {
     "data": {
      "text/html": [
       "<div>\n",
       "<style scoped>\n",
       "    .dataframe tbody tr th:only-of-type {\n",
       "        vertical-align: middle;\n",
       "    }\n",
       "\n",
       "    .dataframe tbody tr th {\n",
       "        vertical-align: top;\n",
       "    }\n",
       "\n",
       "    .dataframe thead th {\n",
       "        text-align: right;\n",
       "    }\n",
       "</style>\n",
       "<table border=\"1\" class=\"dataframe\">\n",
       "  <thead>\n",
       "    <tr style=\"text-align: right;\">\n",
       "      <th></th>\n",
       "      <th>1.1</th>\n",
       "      <th>39343.00</th>\n",
       "    </tr>\n",
       "  </thead>\n",
       "  <tbody>\n",
       "    <tr>\n",
       "      <th>count</th>\n",
       "      <td>29.000000</td>\n",
       "      <td>29.000000</td>\n",
       "    </tr>\n",
       "    <tr>\n",
       "      <th>mean</th>\n",
       "      <td>5.458621</td>\n",
       "      <td>77267.137931</td>\n",
       "    </tr>\n",
       "    <tr>\n",
       "      <th>std</th>\n",
       "      <td>2.772250</td>\n",
       "      <td>26995.157605</td>\n",
       "    </tr>\n",
       "    <tr>\n",
       "      <th>min</th>\n",
       "      <td>1.300000</td>\n",
       "      <td>37731.000000</td>\n",
       "    </tr>\n",
       "    <tr>\n",
       "      <th>25%</th>\n",
       "      <td>3.200000</td>\n",
       "      <td>56957.000000</td>\n",
       "    </tr>\n",
       "    <tr>\n",
       "      <th>50%</th>\n",
       "      <td>4.900000</td>\n",
       "      <td>66029.000000</td>\n",
       "    </tr>\n",
       "    <tr>\n",
       "      <th>75%</th>\n",
       "      <td>7.900000</td>\n",
       "      <td>101302.000000</td>\n",
       "    </tr>\n",
       "    <tr>\n",
       "      <th>max</th>\n",
       "      <td>10.500000</td>\n",
       "      <td>122391.000000</td>\n",
       "    </tr>\n",
       "  </tbody>\n",
       "</table>\n",
       "</div>"
      ],
      "text/plain": [
       "             1.1       39343.00\n",
       "count  29.000000      29.000000\n",
       "mean    5.458621   77267.137931\n",
       "std     2.772250   26995.157605\n",
       "min     1.300000   37731.000000\n",
       "25%     3.200000   56957.000000\n",
       "50%     4.900000   66029.000000\n",
       "75%     7.900000  101302.000000\n",
       "max    10.500000  122391.000000"
      ]
     },
     "execution_count": 7,
     "metadata": {},
     "output_type": "execute_result"
    }
   ],
   "source": [
    "df1=pd.read_csv('Salary_Data.csv')\n",
    "df1.describe()"
   ]
  },
  {
   "cell_type": "code",
   "execution_count": 11,
   "metadata": {},
   "outputs": [
    {
     "data": {
      "text/html": [
       "<div>\n",
       "<style scoped>\n",
       "    .dataframe tbody tr th:only-of-type {\n",
       "        vertical-align: middle;\n",
       "    }\n",
       "\n",
       "    .dataframe tbody tr th {\n",
       "        vertical-align: top;\n",
       "    }\n",
       "\n",
       "    .dataframe thead th {\n",
       "        text-align: right;\n",
       "    }\n",
       "</style>\n",
       "<table border=\"1\" class=\"dataframe\">\n",
       "  <thead>\n",
       "    <tr style=\"text-align: right;\">\n",
       "      <th></th>\n",
       "      <th>name</th>\n",
       "      <th>city</th>\n",
       "      <th>city code</th>\n",
       "    </tr>\n",
       "  </thead>\n",
       "  <tbody>\n",
       "    <tr>\n",
       "      <th>A</th>\n",
       "      <td>Kaushik</td>\n",
       "      <td>Himatnagar</td>\n",
       "      <td>1</td>\n",
       "    </tr>\n",
       "    <tr>\n",
       "      <th>B</th>\n",
       "      <td>Harshil</td>\n",
       "      <td>Jamnagar</td>\n",
       "      <td>2</td>\n",
       "    </tr>\n",
       "    <tr>\n",
       "      <th>C</th>\n",
       "      <td>Chintan</td>\n",
       "      <td>Vadodara</td>\n",
       "      <td>3</td>\n",
       "    </tr>\n",
       "    <tr>\n",
       "      <th>D</th>\n",
       "      <td>Prakash</td>\n",
       "      <td>Surat</td>\n",
       "      <td>4</td>\n",
       "    </tr>\n",
       "  </tbody>\n",
       "</table>\n",
       "</div>"
      ],
      "text/plain": [
       "      name        city  city code\n",
       "A  Kaushik  Himatnagar          1\n",
       "B  Harshil    Jamnagar          2\n",
       "C  Chintan    Vadodara          3\n",
       "D  Prakash       Surat          4"
      ]
     },
     "execution_count": 11,
     "metadata": {},
     "output_type": "execute_result"
    }
   ],
   "source": [
    "df2=pd.DataFrame({\n",
    "    'name':['Kaushik','Harshil','Chintan','Prakash'],\n",
    "    'city':['Himatnagar','Jamnagar','Vadodara','Surat'],\n",
    "    'city code':[1,2,3,4]\n",
    "},index=['A','B','C','D'])\n",
    "df2"
   ]
  },
  {
   "cell_type": "markdown",
   "metadata": {},
   "source": [
    "## df.head(n) and df.tail(n): 1st one gives first n rows and 2nd one gives last n rows by default n=5"
   ]
  },
  {
   "cell_type": "code",
   "execution_count": 37,
   "metadata": {},
   "outputs": [],
   "source": [
    "#print(df2.head(3))\n",
    "#print(df2.tail(3))"
   ]
  },
  {
   "cell_type": "code",
   "execution_count": 39,
   "metadata": {},
   "outputs": [],
   "source": [
    "#print columns names we use df.columns\n",
    "#df2.columns"
   ]
  },
  {
   "cell_type": "markdown",
   "metadata": {},
   "source": [
    "# IMP:\n",
    "###         CONDITIONAL STATEMENTS AND DESCRIBE"
   ]
  },
  {
   "cell_type": "code",
   "execution_count": 14,
   "metadata": {},
   "outputs": [
    {
     "name": "stdout",
     "output_type": "stream",
     "text": [
      "B    2\n",
      "C    3\n",
      "D    4\n",
      "Name: city code, dtype: int64\n"
     ]
    }
   ],
   "source": [
    "#FOR CONDITION WE USE CONDITION AS BELOW\n",
    "#FOR SINGLE COLUMN OR SPECIFIC COL USE DF[COLS NAME TO PRINT][CONDITIONS]\n",
    "# print(df2[df2['city code']>1])\n",
    "print(df2['city code'][df2['city code']>1])"
   ]
  },
  {
   "cell_type": "code",
   "execution_count": 15,
   "metadata": {},
   "outputs": [
    {
     "data": {
      "text/html": [
       "<div>\n",
       "<style scoped>\n",
       "    .dataframe tbody tr th:only-of-type {\n",
       "        vertical-align: middle;\n",
       "    }\n",
       "\n",
       "    .dataframe tbody tr th {\n",
       "        vertical-align: top;\n",
       "    }\n",
       "\n",
       "    .dataframe thead th {\n",
       "        text-align: right;\n",
       "    }\n",
       "</style>\n",
       "<table border=\"1\" class=\"dataframe\">\n",
       "  <thead>\n",
       "    <tr style=\"text-align: right;\">\n",
       "      <th></th>\n",
       "      <th>city code</th>\n",
       "    </tr>\n",
       "  </thead>\n",
       "  <tbody>\n",
       "    <tr>\n",
       "      <th>count</th>\n",
       "      <td>4.000000</td>\n",
       "    </tr>\n",
       "    <tr>\n",
       "      <th>mean</th>\n",
       "      <td>2.500000</td>\n",
       "    </tr>\n",
       "    <tr>\n",
       "      <th>std</th>\n",
       "      <td>1.290994</td>\n",
       "    </tr>\n",
       "    <tr>\n",
       "      <th>min</th>\n",
       "      <td>1.000000</td>\n",
       "    </tr>\n",
       "    <tr>\n",
       "      <th>25%</th>\n",
       "      <td>1.750000</td>\n",
       "    </tr>\n",
       "    <tr>\n",
       "      <th>50%</th>\n",
       "      <td>2.500000</td>\n",
       "    </tr>\n",
       "    <tr>\n",
       "      <th>75%</th>\n",
       "      <td>3.250000</td>\n",
       "    </tr>\n",
       "    <tr>\n",
       "      <th>max</th>\n",
       "      <td>4.000000</td>\n",
       "    </tr>\n",
       "  </tbody>\n",
       "</table>\n",
       "</div>"
      ],
      "text/plain": [
       "       city code\n",
       "count   4.000000\n",
       "mean    2.500000\n",
       "std     1.290994\n",
       "min     1.000000\n",
       "25%     1.750000\n",
       "50%     2.500000\n",
       "75%     3.250000\n",
       "max     4.000000"
      ]
     },
     "execution_count": 15,
     "metadata": {},
     "output_type": "execute_result"
    }
   ],
   "source": [
    "#DESCRIBE()\n",
    "df2.describe()"
   ]
  },
  {
   "cell_type": "code",
   "execution_count": 18,
   "metadata": {},
   "outputs": [],
   "source": [
    "#set index and reset index\n",
    "# print(df2.set_index('name'))\n",
    "# print(df2.reset_index())"
   ]
  },
  {
   "cell_type": "markdown",
   "metadata": {},
   "source": [
    "# na_values"
   ]
  },
  {
   "cell_type": "code",
   "execution_count": 19,
   "metadata": {},
   "outputs": [],
   "source": [
    "df1=pd.read_csv('Salary_Data.csv',na_values=[0,'not available'])\n",
    "#TO SAVE A CSV FILE USE TO_CSV METHOD\n",
    "# df1.to_csv('newsalary.csv',index=False,header=False)\n"
   ]
  },
  {
   "cell_type": "markdown",
   "metadata": {},
   "source": [
    "### FILL NA VALUES"
   ]
  },
  {
   "cell_type": "code",
   "execution_count": 20,
   "metadata": {},
   "outputs": [],
   "source": [
    "#FILL na_values WITH FIX VALUE\n",
    "#newdf=df1.fillna('ABCD')\n",
    "#print(newdf)\n",
    "#COLUMN WISE FILL VALUES\n",
    "#newdf=df1.fillna({\n",
    "  #  'YearsExperience':'no exp',\n",
    " #   'Salary':'No Salary'\n",
    "#})\n",
    "#newdf"
   ]
  },
  {
   "cell_type": "code",
   "execution_count": 78,
   "metadata": {},
   "outputs": [],
   "source": [
    "#FORWORD FILL VALUES,BACKWORD ffill,bfill,limit\n",
    "#newdf=df1.fillna(method='bfill',limit=1)\n",
    "#newdf"
   ]
  },
  {
   "cell_type": "code",
   "execution_count": 82,
   "metadata": {},
   "outputs": [],
   "source": [
    "#PUT INTERMEDIATE VALUES TO NAN VALUES USE INTERPOLATE METHOD\n",
    "#WE CAN ALSO GIVE A METHOD SO IT CAN BE ABLE TO CALCUTATE VALUES AS PER METHOD\n",
    "newdf=df1.interpolate()"
   ]
  },
  {
   "cell_type": "code",
   "execution_count": 88,
   "metadata": {},
   "outputs": [],
   "source": [
    "#TO DROP ROWS HAVING NAN VALUES WE CAN USE dropna() METHOD\n",
    "#HERE WE CAN ALSO USE how AND threshold AS PER OUR REQUIREMENTS\n",
    "#newdf=df1.dropna(how='all')\n",
    "#newdf"
   ]
  },
  {
   "cell_type": "markdown",
   "metadata": {},
   "source": [
    "# REPLACE VALUES"
   ]
  },
  {
   "cell_type": "code",
   "execution_count": 29,
   "metadata": {},
   "outputs": [
    {
     "data": {
      "text/html": [
       "<div>\n",
       "<style scoped>\n",
       "    .dataframe tbody tr th:only-of-type {\n",
       "        vertical-align: middle;\n",
       "    }\n",
       "\n",
       "    .dataframe tbody tr th {\n",
       "        vertical-align: top;\n",
       "    }\n",
       "\n",
       "    .dataframe thead th {\n",
       "        text-align: right;\n",
       "    }\n",
       "</style>\n",
       "<table border=\"1\" class=\"dataframe\">\n",
       "  <thead>\n",
       "    <tr style=\"text-align: right;\">\n",
       "      <th></th>\n",
       "      <th>name</th>\n",
       "      <th>marks</th>\n",
       "      <th>performance</th>\n",
       "    </tr>\n",
       "  </thead>\n",
       "  <tbody>\n",
       "    <tr>\n",
       "      <th>0</th>\n",
       "      <td>kaushik</td>\n",
       "      <td>45</td>\n",
       "      <td>good</td>\n",
       "    </tr>\n",
       "    <tr>\n",
       "      <th>1</th>\n",
       "      <td>jatin</td>\n",
       "      <td>43</td>\n",
       "      <td>good</td>\n",
       "    </tr>\n",
       "    <tr>\n",
       "      <th>2</th>\n",
       "      <td>chintan</td>\n",
       "      <td>45</td>\n",
       "      <td>good</td>\n",
       "    </tr>\n",
       "    <tr>\n",
       "      <th>3</th>\n",
       "      <td>harshil</td>\n",
       "      <td>46</td>\n",
       "      <td>very good</td>\n",
       "    </tr>\n",
       "    <tr>\n",
       "      <th>4</th>\n",
       "      <td>prakash</td>\n",
       "      <td>46</td>\n",
       "      <td>very good</td>\n",
       "    </tr>\n",
       "  </tbody>\n",
       "</table>\n",
       "</div>"
      ],
      "text/plain": [
       "      name  marks performance\n",
       "0  kaushik     45        good\n",
       "1    jatin     43        good\n",
       "2  chintan     45        good\n",
       "3  harshil     46   very good\n",
       "4  prakash     46   very good"
      ]
     },
     "execution_count": 29,
     "metadata": {},
     "output_type": "execute_result"
    }
   ],
   "source": [
    "names=['kaushik','jatin','chintan','harshil','prakash']\n",
    "marks=[45,43,45,46,46]\n",
    "p=['good','good','good','very good','very good']\n",
    "\n",
    "df=pd.DataFrame({\n",
    "    'name':names,\n",
    "    'marks':marks,\n",
    "    'performance':p\n",
    "})\n",
    "df\n"
   ]
  },
  {
   "cell_type": "code",
   "execution_count": 30,
   "metadata": {},
   "outputs": [
    {
     "data": {
      "text/html": [
       "<div>\n",
       "<style scoped>\n",
       "    .dataframe tbody tr th:only-of-type {\n",
       "        vertical-align: middle;\n",
       "    }\n",
       "\n",
       "    .dataframe tbody tr th {\n",
       "        vertical-align: top;\n",
       "    }\n",
       "\n",
       "    .dataframe thead th {\n",
       "        text-align: right;\n",
       "    }\n",
       "</style>\n",
       "<table border=\"1\" class=\"dataframe\">\n",
       "  <thead>\n",
       "    <tr style=\"text-align: right;\">\n",
       "      <th></th>\n",
       "      <th>name</th>\n",
       "      <th>marks</th>\n",
       "      <th>performance</th>\n",
       "    </tr>\n",
       "  </thead>\n",
       "  <tbody>\n",
       "    <tr>\n",
       "      <th>0</th>\n",
       "      <td>kaushik</td>\n",
       "      <td>45</td>\n",
       "      <td>good</td>\n",
       "    </tr>\n",
       "    <tr>\n",
       "      <th>1</th>\n",
       "      <td>jatin</td>\n",
       "      <td>43</td>\n",
       "      <td>good</td>\n",
       "    </tr>\n",
       "    <tr>\n",
       "      <th>2</th>\n",
       "      <td>chintan</td>\n",
       "      <td>45</td>\n",
       "      <td>good</td>\n",
       "    </tr>\n",
       "    <tr>\n",
       "      <th>3</th>\n",
       "      <td>harshil</td>\n",
       "      <td>46</td>\n",
       "      <td>very good</td>\n",
       "    </tr>\n",
       "    <tr>\n",
       "      <th>4</th>\n",
       "      <td>prakash</td>\n",
       "      <td>46</td>\n",
       "      <td>very good</td>\n",
       "    </tr>\n",
       "  </tbody>\n",
       "</table>\n",
       "</div>"
      ],
      "text/plain": [
       "      name  marks performance\n",
       "0  kaushik     45        good\n",
       "1    jatin     43        good\n",
       "2  chintan     45        good\n",
       "3  harshil     46   very good\n",
       "4  prakash     46   very good"
      ]
     },
     "execution_count": 30,
     "metadata": {},
     "output_type": "execute_result"
    }
   ],
   "source": [
    "#REPLCE VALUES IN DATASET\n",
    "df.replace(['good','very good'],[8,9])\n",
    "df"
   ]
  },
  {
   "cell_type": "code",
   "execution_count": 31,
   "metadata": {},
   "outputs": [
    {
     "name": "stdout",
     "output_type": "stream",
     "text": [
      "      name  marks performance\n",
      "0  kaushik     45        good\n",
      "1    jatin     43        good\n",
      "2  chintan     45        good\n"
     ]
    }
   ],
   "source": [
    "#GROUP BY\n",
    "g=df.groupby('performance')\n",
    "print(g.get_group('good'))\n",
    "#print(g.get_group('very good'))"
   ]
  },
  {
   "cell_type": "code",
   "execution_count": null,
   "metadata": {},
   "outputs": [],
   "source": [
    "#MAX,MIN AND MEAN\n",
    "print(g.max())\n",
    "print(g.min())\n",
    "print(g.mean())"
   ]
  },
  {
   "cell_type": "markdown",
   "metadata": {},
   "source": [
    "# CONCAT :\n",
    "      it is used to concate colums or rows in dataset"
   ]
  },
  {
   "cell_type": "code",
   "execution_count": 108,
   "metadata": {},
   "outputs": [],
   "source": [
    "df1=pd.DataFrame({\n",
    "    'result':['pass','pass','pass','pass','pass']\n",
    "})"
   ]
  },
  {
   "cell_type": "code",
   "execution_count": 32,
   "metadata": {},
   "outputs": [
    {
     "name": "stdout",
     "output_type": "stream",
     "text": [
      "     1.1  39343.00  marks     name performance\n",
      "0    NaN       NaN   45.0  kaushik        good\n",
      "1    NaN       NaN   43.0    jatin        good\n",
      "2    NaN       NaN   45.0  chintan        good\n",
      "3    NaN       NaN   46.0  harshil   very good\n",
      "4    NaN       NaN   46.0  prakash   very good\n",
      "0    1.3   46205.0    NaN      NaN         NaN\n",
      "1    1.5   37731.0    NaN      NaN         NaN\n",
      "2    2.0   43525.0    NaN      NaN         NaN\n",
      "3    2.2   39891.0    NaN      NaN         NaN\n",
      "4    2.9   56642.0    NaN      NaN         NaN\n",
      "5    3.0   60150.0    NaN      NaN         NaN\n",
      "6    3.2   54445.0    NaN      NaN         NaN\n",
      "7    3.2   64445.0    NaN      NaN         NaN\n",
      "8    3.7   57189.0    NaN      NaN         NaN\n",
      "9    3.9   63218.0    NaN      NaN         NaN\n",
      "10   4.0   55794.0    NaN      NaN         NaN\n",
      "11   4.0   56957.0    NaN      NaN         NaN\n",
      "12   4.1   57081.0    NaN      NaN         NaN\n",
      "13   4.5   61111.0    NaN      NaN         NaN\n",
      "14   4.9   67938.0    NaN      NaN         NaN\n",
      "15   5.1   66029.0    NaN      NaN         NaN\n",
      "16   5.3   83088.0    NaN      NaN         NaN\n",
      "17   5.9   81363.0    NaN      NaN         NaN\n",
      "18   6.0   93940.0    NaN      NaN         NaN\n",
      "19   6.8   91738.0    NaN      NaN         NaN\n",
      "20   7.1   98273.0    NaN      NaN         NaN\n",
      "21   7.9  101302.0    NaN      NaN         NaN\n",
      "22   8.2  113812.0    NaN      NaN         NaN\n",
      "23   8.7  109431.0    NaN      NaN         NaN\n",
      "24   9.0  105582.0    NaN      NaN         NaN\n",
      "25   9.5  116969.0    NaN      NaN         NaN\n",
      "26   9.6  112635.0    NaN      NaN         NaN\n",
      "27  10.3  122391.0    NaN      NaN         NaN\n",
      "28  10.5  121872.0    NaN      NaN         NaN\n",
      "       name  marks performance   1.1  39343.00\n",
      "0   kaushik   45.0        good   1.3   46205.0\n",
      "1     jatin   43.0        good   1.5   37731.0\n",
      "2   chintan   45.0        good   2.0   43525.0\n",
      "3   harshil   46.0   very good   2.2   39891.0\n",
      "4   prakash   46.0   very good   2.9   56642.0\n",
      "5       NaN    NaN         NaN   3.0   60150.0\n",
      "6       NaN    NaN         NaN   3.2   54445.0\n",
      "7       NaN    NaN         NaN   3.2   64445.0\n",
      "8       NaN    NaN         NaN   3.7   57189.0\n",
      "9       NaN    NaN         NaN   3.9   63218.0\n",
      "10      NaN    NaN         NaN   4.0   55794.0\n",
      "11      NaN    NaN         NaN   4.0   56957.0\n",
      "12      NaN    NaN         NaN   4.1   57081.0\n",
      "13      NaN    NaN         NaN   4.5   61111.0\n",
      "14      NaN    NaN         NaN   4.9   67938.0\n",
      "15      NaN    NaN         NaN   5.1   66029.0\n",
      "16      NaN    NaN         NaN   5.3   83088.0\n",
      "17      NaN    NaN         NaN   5.9   81363.0\n",
      "18      NaN    NaN         NaN   6.0   93940.0\n",
      "19      NaN    NaN         NaN   6.8   91738.0\n",
      "20      NaN    NaN         NaN   7.1   98273.0\n",
      "21      NaN    NaN         NaN   7.9  101302.0\n",
      "22      NaN    NaN         NaN   8.2  113812.0\n",
      "23      NaN    NaN         NaN   8.7  109431.0\n",
      "24      NaN    NaN         NaN   9.0  105582.0\n",
      "25      NaN    NaN         NaN   9.5  116969.0\n",
      "26      NaN    NaN         NaN   9.6  112635.0\n",
      "27      NaN    NaN         NaN  10.3  122391.0\n",
      "28      NaN    NaN         NaN  10.5  121872.0\n"
     ]
    },
    {
     "name": "stderr",
     "output_type": "stream",
     "text": [
      "C:\\Users\\Kaushik\\Anaconda3\\lib\\site-packages\\ipykernel_launcher.py:2: FutureWarning: Sorting because non-concatenation axis is not aligned. A future version\n",
      "of pandas will change to not sort by default.\n",
      "\n",
      "To accept the future behavior, pass 'sort=False'.\n",
      "\n",
      "To retain the current behavior and silence the warning, pass 'sort=True'.\n",
      "\n",
      "  \n"
     ]
    }
   ],
   "source": [
    "#vertical concat\n",
    "print(pd.concat((df,df1)))\n",
    "# HORIZONTAL CONCAT\n",
    "print(pd.concat((df,df1),axis=1))"
   ]
  },
  {
   "cell_type": "markdown",
   "metadata": {},
   "source": [
    "# MERGE"
   ]
  },
  {
   "cell_type": "code",
   "execution_count": null,
   "metadata": {},
   "outputs": [],
   "source": []
  },
  {
   "cell_type": "code",
   "execution_count": null,
   "metadata": {},
   "outputs": [],
   "source": []
  }
 ],
 "metadata": {
  "kernelspec": {
   "display_name": "Python 3",
   "language": "python",
   "name": "python3"
  },
  "language_info": {
   "codemirror_mode": {
    "name": "ipython",
    "version": 3
   },
   "file_extension": ".py",
   "mimetype": "text/x-python",
   "name": "python",
   "nbconvert_exporter": "python",
   "pygments_lexer": "ipython3",
   "version": "3.7.3"
  }
 },
 "nbformat": 4,
 "nbformat_minor": 2
}
