{
 "cells": [
  {
   "cell_type": "code",
   "execution_count": 1,
   "metadata": {},
   "outputs": [],
   "source": [
    "class tree:\n",
    "    def __init__(self):\n",
    "        self.data=0\n",
    "        self.left=None\n",
    "        self.right=None\n",
    "        \n",
    "        \n",
    "    def setdata(self,data):\n",
    "        self.data=data\n",
    "        self.left=None\n",
    "        self.right=None"
   ]
  },
  {
   "cell_type": "code",
   "execution_count": 2,
   "metadata": {},
   "outputs": [],
   "source": [
    "def create():\n",
    "    node=tree()\n",
    "    data=int(input(\"enter data (enter -1 for no data :  )\"))\n",
    "    if(data==-1):\n",
    "        return \n",
    "    node.setdata(data)\n",
    "    print(f\"enter left of {data} :  \")\n",
    "    node.left=create()\n",
    "    print(f\"enter right of {data} :  \")\n",
    "    node.right=create()\n",
    "    return node\n",
    "\n",
    "    "
   ]
  },
  {
   "cell_type": "code",
   "execution_count": 3,
   "metadata": {},
   "outputs": [],
   "source": [
    "def inorder(root):\n",
    "    if root:\n",
    "        inorder(root.left)\n",
    "        print(root.data,end=\"  \")\n",
    "        inorder(root.right)\n",
    "    "
   ]
  },
  {
   "cell_type": "code",
   "execution_count": 4,
   "metadata": {},
   "outputs": [],
   "source": [
    "class Q:\n",
    "    def __init__(self):\n",
    "        self.li=[]\n",
    "    def enqueue(self,item):\n",
    "        self.li.insert(0,item)\n",
    "    def dequeue(self):\n",
    "        if not self.li==[]:\n",
    "            return self.li.pop()\n",
    "    def is_empty(self):\n",
    "        return self.li==[]"
   ]
  },
  {
   "cell_type": "code",
   "execution_count": 15,
   "metadata": {},
   "outputs": [],
   "source": [
    "def levelorder(root):\n",
    "    queue=Q()\n",
    "    p=tree()\n",
    "    queue.enqueue(root)\n",
    "    while (not queue.is_empty()):\n",
    "        p=queue.dequeue()\n",
    "        print(p.data,end=\"  \")\n",
    "        if p.left:\n",
    "            queue.enqueue(p.left)\n",
    "        if p.right:\n",
    "            queue.enqueue(p.right)"
   ]
  },
  {
   "cell_type": "code",
   "execution_count": 6,
   "metadata": {},
   "outputs": [
    {
     "name": "stdout",
     "output_type": "stream",
     "text": [
      "enter data (enter -1 for no data :  )5\n",
      "enter left of 5 :  \n",
      "enter data (enter -1 for no data :  )4\n",
      "enter left of 4 :  \n",
      "enter data (enter -1 for no data :  )2\n",
      "enter left of 2 :  \n",
      "enter data (enter -1 for no data :  )-1\n",
      "enter right of 2 :  \n",
      "enter data (enter -1 for no data :  )-1\n",
      "enter right of 4 :  \n",
      "enter data (enter -1 for no data :  )1\n",
      "enter left of 1 :  \n",
      "enter data (enter -1 for no data :  )-1\n",
      "enter right of 1 :  \n",
      "enter data (enter -1 for no data :  )-1\n",
      "enter right of 5 :  \n",
      "enter data (enter -1 for no data :  )3\n",
      "enter left of 3 :  \n",
      "enter data (enter -1 for no data :  )18\n",
      "enter left of 18 :  \n",
      "enter data (enter -1 for no data :  )-1\n",
      "enter right of 18 :  \n",
      "enter data (enter -1 for no data :  )-1\n",
      "enter right of 3 :  \n",
      "enter data (enter -1 for no data :  )19\n",
      "enter left of 19 :  \n",
      "enter data (enter -1 for no data :  )-1\n",
      "enter right of 19 :  \n",
      "enter data (enter -1 for no data :  )-1\n"
     ]
    }
   ],
   "source": [
    "root=tree()\n",
    "root=create()"
   ]
  },
  {
   "cell_type": "code",
   "execution_count": 7,
   "metadata": {},
   "outputs": [
    {
     "name": "stdout",
     "output_type": "stream",
     "text": [
      "2  4  1  5  18  3  19  "
     ]
    }
   ],
   "source": [
    "inorder(root)"
   ]
  },
  {
   "cell_type": "code",
   "execution_count": 16,
   "metadata": {},
   "outputs": [
    {
     "name": "stdout",
     "output_type": "stream",
     "text": [
      "5  4  3  2  1  18  19  "
     ]
    }
   ],
   "source": [
    "levelorder(root)"
   ]
  }
 ],
 "metadata": {
  "kernelspec": {
   "display_name": "Python 3",
   "language": "python",
   "name": "python3"
  },
  "language_info": {
   "codemirror_mode": {
    "name": "ipython",
    "version": 3
   },
   "file_extension": ".py",
   "mimetype": "text/x-python",
   "name": "python",
   "nbconvert_exporter": "python",
   "pygments_lexer": "ipython3",
   "version": "3.6.7"
  }
 },
 "nbformat": 4,
 "nbformat_minor": 2
}
