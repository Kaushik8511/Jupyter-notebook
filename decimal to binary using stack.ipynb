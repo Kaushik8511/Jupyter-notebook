{
 "cells": [
  {
   "cell_type": "code",
   "execution_count": 11,
   "metadata": {},
   "outputs": [],
   "source": [
    "class Stack:\n",
    "    def __init__(self):\n",
    "        self.li=[]\n",
    "    def push(self,item):\n",
    "        self.li.append(item)\n",
    "    def pop(self):\n",
    "        if not self.li==[]:\n",
    "            return self.li.pop()\n",
    "    def wholestack(self):\n",
    "        return self.li\n",
    "    def is_empty(self):\n",
    "        return self.li==[]\n",
    "    def peakvalue(self):\n",
    "        if not self.is_empty():\n",
    "            return self.li[-1]\n",
    "        else:\n",
    "            return (\"stack is empty\")"
   ]
  },
  {
   "cell_type": "code",
   "execution_count": 21,
   "metadata": {},
   "outputs": [
    {
     "name": "stdout",
     "output_type": "stream",
     "text": [
      "enter number : 62\n",
      "111110"
     ]
    }
   ],
   "source": [
    "num = int(input(\"enter number : \"))\n",
    "stack=Stack()\n",
    "l=[]\n",
    "while (num != 0):\n",
    "    stack.push(num%2)\n",
    "    num=num//2\n",
    "while(not stack.is_empty()):\n",
    "        l.append(stack.pop())\n",
    "for i in l:\n",
    "    print(i,end=\"\")"
   ]
  },
  {
   "cell_type": "code",
   "execution_count": null,
   "metadata": {},
   "outputs": [],
   "source": []
  }
 ],
 "metadata": {
  "kernelspec": {
   "display_name": "Python 3",
   "language": "python",
   "name": "python3"
  },
  "language_info": {
   "codemirror_mode": {
    "name": "ipython",
    "version": 3
   },
   "file_extension": ".py",
   "mimetype": "text/x-python",
   "name": "python",
   "nbconvert_exporter": "python",
   "pygments_lexer": "ipython3",
   "version": "3.7.3"
  }
 },
 "nbformat": 4,
 "nbformat_minor": 2
}
