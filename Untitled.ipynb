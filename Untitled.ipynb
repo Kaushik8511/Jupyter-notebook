{
 "cells": [
  {
   "cell_type": "markdown",
   "metadata": {},
   "source": [
    "# Linear Regression using Gredient Descent\n",
    "        1)import data\n",
    "        2 & 3)manage and split data"
   ]
  },
  {
   "cell_type": "code",
   "execution_count": 142,
   "metadata": {},
   "outputs": [],
   "source": [
    "import numpy as np\n",
    "import matplotlib.pyplot as plt\n",
    "from sklearn.model_selection import train_test_split\n",
    "import pandas as pd\n",
    "data=pd.read_csv('Salary_Data.csv',names=['Year','Salary'])\n",
    "data.insert(0,'ones',1)\n",
    "X=data.iloc[:,0:2]\n",
    "y=data.iloc[:,2:3]"
   ]
  },
  {
   "cell_type": "markdown",
   "metadata": {},
   "source": [
    "# Calculate Cost\n",
    "   cost=(1/(2*n)) sigma(1,n):(y-y^)**2"
   ]
  },
  {
   "cell_type": "code",
   "execution_count": 143,
   "metadata": {},
   "outputs": [],
   "source": [
    "def cost(variable,X,y):\n",
    "    temp=np.power(((X*variable.T)-y),2)\n",
    "    return (temp.sum()/(2*len(X)))"
   ]
  },
  {
   "cell_type": "code",
   "execution_count": 144,
   "metadata": {},
   "outputs": [],
   "source": [
    "X=np.matrix(X)\n",
    "y=np.matrix(y)\n",
    "variable=np.matrix(np.array([0,0]))"
   ]
  },
  {
   "cell_type": "code",
   "execution_count": 170,
   "metadata": {},
   "outputs": [
    {
     "name": "stdout",
     "output_type": "stream",
     "text": [
      "3251477635.366667\n"
     ]
    }
   ],
   "source": [
    "c=cost(variable,X,y)\n",
    "print(c)"
   ]
  },
  {
   "cell_type": "markdown",
   "metadata": {},
   "source": [
    "# Gredient Descent\n",
    "     "
   ]
  },
  {
   "cell_type": "code",
   "execution_count": 192,
   "metadata": {},
   "outputs": [],
   "source": [
    "def GredientDescent(X,y,variable,alpha,iteration):\n",
    "    temp=np.matrix(np.zeros(variable.shape))\n",
    "    c=np.zeros(iteration)\n",
    "    parameter=int(variable.ravel().shape[1])\n",
    "    for i in range(iteration):\n",
    "        error=np.matmul(X,variable.T)-y\n",
    "        for j in range(parameter):\n",
    "            temp1=np.multiply(error,X[:,j])\n",
    "            temp[0,j]=variable[0,j]-((alpha/len(X))*np.sum(temp1))\n",
    "            \n",
    "        variable=temp\n",
    "        \n",
    "        c[i]=cost(variable,X,y)\n",
    "    \n",
    "    return variable,c"
   ]
  },
  {
   "cell_type": "code",
   "execution_count": 195,
   "metadata": {},
   "outputs": [
    {
     "name": "stdout",
     "output_type": "stream",
     "text": [
      "[[0 0]]\n"
     ]
    },
    {
     "data": {
      "image/png": "[encoded data removed]",
      "text/plain": [
       "<Figure size 432x288 with 1 Axes>"
      ]
     },
     "metadata": {
      "needs_background": "light"
     },
     "output_type": "display_data"
    }
   ],
   "source": [
    "iters=100\n",
    "print(variable)\n",
    "alpha=0.2\n",
    "a,costs=GredientDescent(X,y,variable,alpha,iters)\n",
    "plt.plot(np.arange(iters),costs,'r')\n",
    "plt.xlabel(\"Iterations\")\n",
    "plt.ylabel(\"cost\")\n",
    "plt.show()"
   ]
  },
  {
   "cell_type": "code",
   "execution_count": 203,
   "metadata": {},
   "outputs": [],
   "source": [
    "def computeCost(X, y, theta):\n",
    "    inner = np.power(((X * theta.T) - y), 2)\n",
    "    return np.sum(inner) / (2 * len(X))"
   ]
  },
  {
   "cell_type": "code",
   "execution_count": 204,
   "metadata": {},
   "outputs": [],
   "source": [
    "def gradientDescent(X, y, theta, alpha, iters):\n",
    "    temp = np.matrix(np.zeros(theta.shape))\n",
    "    parameters = int(theta.ravel().shape[1])\n",
    "    cost = np.zeros(iters)\n",
    "    \n",
    "    for i in range(iters):\n",
    "        error = (X * theta.T) - y\n",
    "        \n",
    "        for j in range(parameters):\n",
    "            term = np.multiply(error, X[:,j])\n",
    "            temp[0,j] = theta[0,j] - ((alpha / len(X)) * np.sum(term))\n",
    "            \n",
    "        theta = temp\n",
    "        cost[i] = computeCost(X, y, theta)\n",
    "        \n",
    "    return theta, cost"
   ]
  },
  {
   "cell_type": "code",
   "execution_count": 205,
   "metadata": {},
   "outputs": [
    {
     "data": {
      "image/png": "[encoded data removed]",
      "text/plain": [
       "<Figure size 432x288 with 1 Axes>"
      ]
     },
     "metadata": {
      "needs_background": "light"
     },
     "output_type": "display_data"
    }
   ],
   "source": [
    "data=pd.DataFrame({\n",
    "    \"weight\":[1,2,3,4,5,6,7,8,9,10],\n",
    "    \"price\":[2,4,5,7,8,9,11,13,14,17]\n",
    "})\n",
    "\n",
    "X1=data.iloc[:,0:1]\n",
    "y1=np.matrix(data.iloc[:,1:2])\n",
    "X1.insert(0,'ones',1)\n",
    "X1=np.matrix(X1)\n",
    "var=np.matrix([0,0])\n",
    "a,b=gradientDescent(X1,y1,var,0.2,iters)\n",
    "plt.plot(np.arange(5),b)\n",
    "plt.show()"
   ]
  },
  {
   "cell_type": "code",
   "execution_count": null,
   "metadata": {},
   "outputs": [],
   "source": [
    "fig, ax = plt.subplots(figsize=(12,8))\n",
    "ax.plot(np.arange(iters), cost, 'r')\n",
    "ax.set_xlabel('Iterations')\n",
    "ax.set_ylabel('Cost')\n",
    "ax.set_title('Error vs. Training Epoch')"
   ]
  }
 ],
 "metadata": {
  "kernelspec": {
   "display_name": "Python 3",
   "language": "python",
   "name": "python3"
  },
  "language_info": {
   "codemirror_mode": {
    "name": "ipython",
    "version": 3
   },
   "file_extension": ".py",
   "mimetype": "text/x-python",
   "name": "python",
   "nbconvert_exporter": "python",
   "pygments_lexer": "ipython3",
   "version": "3.7.3"
  }
 },
 "nbformat": 4,
 "nbformat_minor": 2
}
