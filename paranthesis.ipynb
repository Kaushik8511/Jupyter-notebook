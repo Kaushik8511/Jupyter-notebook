{
 "cells": [
  {
   "cell_type": "code",
   "execution_count": 2,
   "metadata": {},
   "outputs": [],
   "source": [
    "class Stack:\n",
    "    def __init__(self):\n",
    "        self.li=[]\n",
    "    def push(self,item):\n",
    "        self.li.append(item)\n",
    "    def pop(self):\n",
    "        if not self.li==[]:\n",
    "            return self.li.pop()\n",
    "    def wholestack(self):\n",
    "        return self.li\n",
    "    def is_empty(self):\n",
    "        return self.li==[]\n",
    "    def peakvalue(self):\n",
    "        if not self.is_empty():\n",
    "            return self.li[-1]\n",
    "        else:\n",
    "            return (\"stack is empty\")"
   ]
  },
  {
   "cell_type": "code",
   "execution_count": 8,
   "metadata": {},
   "outputs": [
    {
     "name": "stdout",
     "output_type": "stream",
     "text": [
      "Enter paranthesis string : }(){\n",
      "string is not balanced \n"
     ]
    }
   ],
   "source": [
    "stack=Stack()\n",
    "string=input(\"Enter paranthesis string : \")\n",
    "index=0\n",
    "c='a'\n",
    "is_balanced=True\n",
    "while index<len(string) and is_balanced==True:\n",
    "    if(string[index]=='(' or string[index]=='[' or string[index]=='{'):\n",
    "        stack.push(string[index])\n",
    "    else:\n",
    "        if not stack.is_empty:\n",
    "            c=stack.pop()\n",
    "            if(c=='('):\n",
    "                if(string[index]!=')'):\n",
    "                    is_balanced=False\n",
    "            elif(c=='{'):\n",
    "                if(string[index]!='}'):\n",
    "                    is_balanced=False\n",
    "            if(c=='['):\n",
    "                if(string[index]!=']'):\n",
    "                    is_balanced=False\n",
    "        else:\n",
    "            is_balanced=False\n",
    "    index=index+1\n",
    "if is_balanced and stack.is_empty():\n",
    "    print(\"string is balanced  \")\n",
    "else:\n",
    "    print(\"string is not balanced \")"
   ]
  },
  {
   "cell_type": "code",
   "execution_count": null,
   "metadata": {},
   "outputs": [],
   "source": []
  }
 ],
 "metadata": {
  "kernelspec": {
   "display_name": "Python 3",
   "language": "python",
   "name": "python3"
  },
  "language_info": {
   "codemirror_mode": {
    "name": "ipython",
    "version": 3
   },
   "file_extension": ".py",
   "mimetype": "text/x-python",
   "name": "python",
   "nbconvert_exporter": "python",
   "pygments_lexer": "ipython3",
   "version": "3.6.7"
  }
 },
 "nbformat": 4,
 "nbformat_minor": 2
}
