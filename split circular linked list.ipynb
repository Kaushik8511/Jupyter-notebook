{
 "cells": [
  {
   "cell_type": "code",
   "execution_count": 1,
   "metadata": {},
   "outputs": [],
   "source": [
    "class node:\n",
    "    def __init__(self,data):\n",
    "        self.data=data\n",
    "        self.next=None"
   ]
  },
  {
   "cell_type": "code",
   "execution_count": 2,
   "metadata": {},
   "outputs": [],
   "source": [
    "class clinkedlist:\n",
    "    def __init__(self):\n",
    "        self.head=None\n",
    "    def append(self,data):\n",
    "        newnode=node(data)\n",
    "        if not self.head:\n",
    "            self.head=newnode\n",
    "            newnode.next=self.head\n",
    "        else:\n",
    "            ptr=self.head\n",
    "            while(ptr.next!=self.head):\n",
    "                ptr=ptr.next\n",
    "            ptr.next=newnode\n",
    "            newnode.next=self.head\n",
    "            \n",
    "    def printlist(self):\n",
    "        if not self.head:\n",
    "            print(\"list is empty \")\n",
    "            return\n",
    "        ptr=self.head\n",
    "        while(ptr.next!=self.head):\n",
    "            print(ptr.data,end=\" \")\n",
    "            ptr=ptr.next\n",
    "        print(ptr.data)\n",
    "        \n",
    "    def split(self,l1):\n",
    "        i=int(input(\"from which value you want to split list : \"))\n",
    "        ptr=self.head\n",
    "        while(ptr.next!=self.head):\n",
    "            if(ptr.data==i):\n",
    "                break\n",
    "            ptr=ptr.next\n",
    "        if(ptr.next==self.head):\n",
    "            print(\"split is not possible \")\n",
    "            return\n",
    "        l1.head=ptr.next\n",
    "        ptr.next=self.head\n",
    "        ptr=l1.head\n",
    "        while(ptr.next!=self.head):\n",
    "            ptr=ptr.next\n",
    "        ptr.next=l1.head\n",
    "        print(\"first list is :    \",end=\" \")\n",
    "        self.printlist()\n",
    "        print(\"second list is :    \",end=\" \")\n",
    "        l1.printlist()"
   ]
  },
  {
   "cell_type": "code",
   "execution_count": 3,
   "metadata": {},
   "outputs": [
    {
     "name": "stdout",
     "output_type": "stream",
     "text": [
      "43 1543 1653 34 13 343\n"
     ]
    }
   ],
   "source": [
    "l=clinkedlist()\n",
    "l.append(43)\n",
    "l.append(1543)\n",
    "l.append(1653)\n",
    "l.append(34)\n",
    "l.append(13)\n",
    "l.append(343)\n",
    "l.printlist()"
   ]
  },
  {
   "cell_type": "code",
   "execution_count": 7,
   "metadata": {},
   "outputs": [
    {
     "name": "stdout",
     "output_type": "stream",
     "text": [
      "from which value you want to split list : 343\n",
      "split is not possible \n"
     ]
    }
   ],
   "source": [
    "l1=clinkedlist()\n",
    "l.split(l1)"
   ]
  },
  {
   "cell_type": "code",
   "execution_count": null,
   "metadata": {},
   "outputs": [],
   "source": []
  }
 ],
 "metadata": {
  "kernelspec": {
   "display_name": "Python 3",
   "language": "python",
   "name": "python3"
  },
  "language_info": {
   "codemirror_mode": {
    "name": "ipython",
    "version": 3
   },
   "file_extension": ".py",
   "mimetype": "text/x-python",
   "name": "python",
   "nbconvert_exporter": "python",
   "pygments_lexer": "ipython3",
   "version": "3.6.7"
  }
 },
 "nbformat": 4,
 "nbformat_minor": 2
}
